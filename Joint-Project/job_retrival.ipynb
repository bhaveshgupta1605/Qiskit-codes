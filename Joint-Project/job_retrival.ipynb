{
 "cells": [
  {
   "cell_type": "code",
   "execution_count": 1,
   "metadata": {},
   "outputs": [],
   "source": [
    "from qiskit import *\n",
    "from qiskit.tools.jupyter import *\n",
    "from qiskit.visualization import *\n",
    "\n",
    "from qiskit_ibm_runtime import QiskitRuntimeService\n",
    " \n",
    "# Save an IBM Quantum account and set it as your default account.\n",
    "# QiskitRuntimeService.save_account(channel=\"ibm_quantum\", token=\"0522c2a92bd309b3c7fdf9a4ee6a722dd282493f04c9aa2852a38dfbf5f0f4fcbbef3289c43907c0e0145566d79021a1c336e30a689fe727820e3f77b6e13b31\", set_as_default=True)\n",
    " \n",
    "# Load saved credentials\n",
    "service = QiskitRuntimeService()\n",
    "\n",
    "from qiskit_ibm_provider import IBMProvider\n",
    "import numpy as np\n",
    "import matplotlib.pyplot as plt\n",
    "import pandas as pd"
   ]
  },
  {
   "cell_type": "code",
   "execution_count": 2,
   "metadata": {},
   "outputs": [],
   "source": [
    "from qiskit_experiments.library import T1, T2Ramsey, T2Hahn\n",
    "from qiskit_experiments.framework import ParallelExperiment, BatchExperiment\n",
    "from qiskit import schedule, transpile"
   ]
  },
  {
   "cell_type": "code",
   "execution_count": 3,
   "metadata": {},
   "outputs": [],
   "source": [
    "def T1_T2Hahn_batch(min_delay, max_delay, num_samples, num_echos, shots, backend, physical_qubits, num_batches):\n",
    "     # min_delay = 100e-9\n",
    "     # max_delay = 400e-6\n",
    "     # num_samples = 200\n",
    "    delays = np.geomspace(min_delay, max_delay, num_samples)\n",
    "    \n",
    "    t1 = [T1(physical_qubits = [qubit],\n",
    "             delays = delays,\n",
    "             backend = backend) for qubit in physical_qubits]\n",
    "    \n",
    "    t2 = [T2Hahn(physical_qubits = [qubit],\n",
    "             delays = delays,\n",
    "             backend = backend,\n",
    "             num_echoes = num_echos) for qubit in physical_qubits]\n",
    "    \n",
    "    for i in range(len(physical_qubits)):\n",
    "        t1[i].set_run_options(shots=shots)\n",
    "        t2[i].set_run_options(shots=shots)\n",
    "    \n",
    "    t1_par = ParallelExperiment(t1,backend=backend,flatten_results=False)\n",
    "    t2_par = ParallelExperiment(t2,backend=backend,flatten_results=False)\n",
    "    \n",
    "    t1_par.set_run_options(shots=shots)\n",
    "    t2_par.set_run_options(shots=shots)\n",
    "    \n",
    "    batch = []\n",
    "    for i in range(num_batches):\n",
    "        \n",
    "        batch.append(t1_par)\n",
    "        batch.append(t2_par)\n",
    "    batch_exp = BatchExperiment(batch, backend= backend, flatten_results= False)\n",
    "    batch_exp.set_run_options(shots=shots)\n",
    "    batch_result = batch_exp.run(backend=backend).block_for_results()\n",
    "    return batch_exp, batch_result"
   ]
  },
  {
   "cell_type": "code",
   "execution_count": 4,
   "metadata": {},
   "outputs": [
    {
     "name": "stdout",
     "output_type": "stream",
     "text": [
      "[0.00027943191129357436, 0.00022364709645466668, 0.00013543184573280972, 0.00032098897692979425, 0.00041188278097099775, 0.00037890944781083705, 0.00037596521763143265]\n",
      "[0.00027970521698336313, 0.0003576078273948061, 7.129215363668975e-05, 0.00028231382328281206, 0.0001651396978084268, 0.00014386313646303346, 0.00023153477784397088]\n"
     ]
    }
   ],
   "source": [
    "# from qiskit.providers.fake_provider import FakeKolkata\n",
    "instance = 'ibm-q/open/main'\n",
    "provider = IBMProvider(instance=instance)\n",
    "\n",
    "provider_osaka = provider.get_backend('ibm_osaka')\n",
    "backend = provider_osaka\n",
    "shots = 2000\n",
    "max_delay = 400e-6\n",
    "min_delay = 100e-9\n",
    "num_samples = 150\n",
    "num_batches = 10\n",
    "num_echos = 1\n",
    "\n",
    "config_backend = backend.configuration()\n",
    "\n",
    "props_backend = backend.properties()\n",
    "\n",
    "physical_qubits = [6, 10, 13, 15, 20, 21, 22] # the no crosstalk qubits selected from previous experiment   \n",
    "\n",
    "T1_value = [props_backend.t1(i) for i in physical_qubits]\n",
    "T2_value = [props_backend.t2(i) for i in physical_qubits]\n",
    "\n",
    "print(T1_value)\n",
    "print(T2_value)"
   ]
  },
  {
   "cell_type": "code",
   "execution_count": 5,
   "metadata": {},
   "outputs": [
    {
     "ename": "IBMBackendApiError",
     "evalue": "'Error submitting job: \\'409 Client Error: Conflict for url: https://api.quantum.ibm.com/runtime/jobs. {\"errors\":[{\"message\":\"You have reached the limit of 3 pending  jobs. Please wait for a job to complete or cancel one before submitting anything new.\",\"code\":3458,\"solution\":\"Wait until some previous jobs were finished. You can cancel pending jobs to run new jobs.\",\"more_info\":\"https://docs.quantum-computing.ibm.com/errors\"}]}\\''",
     "output_type": "error",
     "traceback": [
      "\u001b[0;31m---------------------------------------------------------------------------\u001b[0m",
      "\u001b[0;31mHTTPError\u001b[0m                                 Traceback (most recent call last)",
      "File \u001b[0;32m/Library/Frameworks/Python.framework/Versions/3.11/lib/python3.11/site-packages/qiskit_ibm_provider/api/session.py:264\u001b[0m, in \u001b[0;36mRetrySession.request\u001b[0;34m(self, method, url, bare, **kwargs)\u001b[0m\n\u001b[1;32m    263\u001b[0m     response \u001b[38;5;241m=\u001b[39m \u001b[38;5;28msuper\u001b[39m()\u001b[38;5;241m.\u001b[39mrequest(method, final_url, headers\u001b[38;5;241m=\u001b[39mheaders, \u001b[38;5;241m*\u001b[39m\u001b[38;5;241m*\u001b[39mkwargs)\n\u001b[0;32m--> 264\u001b[0m     \u001b[43mresponse\u001b[49m\u001b[38;5;241;43m.\u001b[39;49m\u001b[43mraise_for_status\u001b[49m\u001b[43m(\u001b[49m\u001b[43m)\u001b[49m\n\u001b[1;32m    265\u001b[0m \u001b[38;5;28;01mexcept\u001b[39;00m RequestException \u001b[38;5;28;01mas\u001b[39;00m ex:\n\u001b[1;32m    266\u001b[0m     \u001b[38;5;66;03m# Wrap the requests exceptions into a IBM Q custom one, for\u001b[39;00m\n\u001b[1;32m    267\u001b[0m     \u001b[38;5;66;03m# compatibility.\u001b[39;00m\n",
      "File \u001b[0;32m/Library/Frameworks/Python.framework/Versions/3.11/lib/python3.11/site-packages/requests/models.py:1021\u001b[0m, in \u001b[0;36mResponse.raise_for_status\u001b[0;34m(self)\u001b[0m\n\u001b[1;32m   1020\u001b[0m \u001b[38;5;28;01mif\u001b[39;00m http_error_msg:\n\u001b[0;32m-> 1021\u001b[0m     \u001b[38;5;28;01mraise\u001b[39;00m HTTPError(http_error_msg, response\u001b[38;5;241m=\u001b[39m\u001b[38;5;28mself\u001b[39m)\n",
      "\u001b[0;31mHTTPError\u001b[0m: 409 Client Error: Conflict for url: https://api.quantum.ibm.com/runtime/jobs",
      "\nThe above exception was the direct cause of the following exception:\n",
      "\u001b[0;31mRequestsApiError\u001b[0m                          Traceback (most recent call last)",
      "File \u001b[0;32m/Library/Frameworks/Python.framework/Versions/3.11/lib/python3.11/site-packages/qiskit_ibm_provider/ibm_backend.py:528\u001b[0m, in \u001b[0;36mIBMBackend._runtime_run\u001b[0;34m(self, program_id, inputs, backend_name, job_tags, image)\u001b[0m\n\u001b[1;32m    527\u001b[0m \u001b[38;5;28;01mtry\u001b[39;00m:\n\u001b[0;32m--> 528\u001b[0m     response \u001b[38;5;241m=\u001b[39m \u001b[38;5;28;43mself\u001b[39;49m\u001b[38;5;241;43m.\u001b[39;49m\u001b[43mprovider\u001b[49m\u001b[38;5;241;43m.\u001b[39;49m\u001b[43m_runtime_client\u001b[49m\u001b[38;5;241;43m.\u001b[39;49m\u001b[43mprogram_run\u001b[49m\u001b[43m(\u001b[49m\n\u001b[1;32m    529\u001b[0m \u001b[43m        \u001b[49m\u001b[43mprogram_id\u001b[49m\u001b[38;5;241;43m=\u001b[39;49m\u001b[43mprogram_id\u001b[49m\u001b[43m,\u001b[49m\n\u001b[1;32m    530\u001b[0m \u001b[43m        \u001b[49m\u001b[43mbackend_name\u001b[49m\u001b[38;5;241;43m=\u001b[39;49m\u001b[43mbackend_name\u001b[49m\u001b[43m,\u001b[49m\n\u001b[1;32m    531\u001b[0m \u001b[43m        \u001b[49m\u001b[43mparams\u001b[49m\u001b[38;5;241;43m=\u001b[39;49m\u001b[43minputs\u001b[49m\u001b[43m,\u001b[49m\n\u001b[1;32m    532\u001b[0m \u001b[43m        \u001b[49m\u001b[43mhgp\u001b[49m\u001b[38;5;241;43m=\u001b[39;49m\u001b[43mhgp_name\u001b[49m\u001b[43m,\u001b[49m\n\u001b[1;32m    533\u001b[0m \u001b[43m        \u001b[49m\u001b[43mjob_tags\u001b[49m\u001b[38;5;241;43m=\u001b[39;49m\u001b[43mjob_tags\u001b[49m\u001b[43m,\u001b[49m\n\u001b[1;32m    534\u001b[0m \u001b[43m        \u001b[49m\u001b[43msession_id\u001b[49m\u001b[38;5;241;43m=\u001b[39;49m\u001b[43msession_id\u001b[49m\u001b[43m,\u001b[49m\n\u001b[1;32m    535\u001b[0m \u001b[43m        \u001b[49m\u001b[43mstart_session\u001b[49m\u001b[38;5;241;43m=\u001b[39;49m\u001b[43mstart_session\u001b[49m\u001b[43m,\u001b[49m\n\u001b[1;32m    536\u001b[0m \u001b[43m        \u001b[49m\u001b[43msession_time\u001b[49m\u001b[38;5;241;43m=\u001b[39;49m\u001b[43msession_time\u001b[49m\u001b[43m,\u001b[49m\n\u001b[1;32m    537\u001b[0m \u001b[43m        \u001b[49m\u001b[43mimage\u001b[49m\u001b[38;5;241;43m=\u001b[39;49m\u001b[43mimage\u001b[49m\u001b[43m,\u001b[49m\n\u001b[1;32m    538\u001b[0m \u001b[43m    \u001b[49m\u001b[43m)\u001b[49m\n\u001b[1;32m    539\u001b[0m \u001b[38;5;28;01mexcept\u001b[39;00m RequestsApiError \u001b[38;5;28;01mas\u001b[39;00m ex:\n",
      "File \u001b[0;32m/Library/Frameworks/Python.framework/Versions/3.11/lib/python3.11/site-packages/qiskit_ibm_provider/api/clients/runtime.py:141\u001b[0m, in \u001b[0;36mRuntimeClient.program_run\u001b[0;34m(self, program_id, backend_name, params, image, hgp, log_level, session_id, job_tags, max_execution_time, session_time, start_session)\u001b[0m\n\u001b[1;32m    140\u001b[0m     hgp_dict \u001b[38;5;241m=\u001b[39m {\u001b[38;5;124m\"\u001b[39m\u001b[38;5;124mhub\u001b[39m\u001b[38;5;124m\"\u001b[39m: hub, \u001b[38;5;124m\"\u001b[39m\u001b[38;5;124mgroup\u001b[39m\u001b[38;5;124m\"\u001b[39m: group, \u001b[38;5;124m\"\u001b[39m\u001b[38;5;124mproject\u001b[39m\u001b[38;5;124m\"\u001b[39m: project}\n\u001b[0;32m--> 141\u001b[0m \u001b[38;5;28;01mreturn\u001b[39;00m \u001b[38;5;28;43mself\u001b[39;49m\u001b[38;5;241;43m.\u001b[39;49m\u001b[43m_api\u001b[49m\u001b[38;5;241;43m.\u001b[39;49m\u001b[43mprogram_run\u001b[49m\u001b[43m(\u001b[49m\n\u001b[1;32m    142\u001b[0m \u001b[43m    \u001b[49m\u001b[43mprogram_id\u001b[49m\u001b[38;5;241;43m=\u001b[39;49m\u001b[43mprogram_id\u001b[49m\u001b[43m,\u001b[49m\n\u001b[1;32m    143\u001b[0m \u001b[43m    \u001b[49m\u001b[43mbackend_name\u001b[49m\u001b[38;5;241;43m=\u001b[39;49m\u001b[43mbackend_name\u001b[49m\u001b[43m,\u001b[49m\n\u001b[1;32m    144\u001b[0m \u001b[43m    \u001b[49m\u001b[43mparams\u001b[49m\u001b[38;5;241;43m=\u001b[39;49m\u001b[43mparams\u001b[49m\u001b[43m,\u001b[49m\n\u001b[1;32m    145\u001b[0m \u001b[43m    \u001b[49m\u001b[43mimage\u001b[49m\u001b[38;5;241;43m=\u001b[39;49m\u001b[43mimage\u001b[49m\u001b[43m,\u001b[49m\n\u001b[1;32m    146\u001b[0m \u001b[43m    \u001b[49m\u001b[43mlog_level\u001b[49m\u001b[38;5;241;43m=\u001b[39;49m\u001b[43mlog_level\u001b[49m\u001b[43m,\u001b[49m\n\u001b[1;32m    147\u001b[0m \u001b[43m    \u001b[49m\u001b[43msession_id\u001b[49m\u001b[38;5;241;43m=\u001b[39;49m\u001b[43msession_id\u001b[49m\u001b[43m,\u001b[49m\n\u001b[1;32m    148\u001b[0m \u001b[43m    \u001b[49m\u001b[43mjob_tags\u001b[49m\u001b[38;5;241;43m=\u001b[39;49m\u001b[43mjob_tags\u001b[49m\u001b[43m,\u001b[49m\n\u001b[1;32m    149\u001b[0m \u001b[43m    \u001b[49m\u001b[43mmax_execution_time\u001b[49m\u001b[38;5;241;43m=\u001b[39;49m\u001b[43mmax_execution_time\u001b[49m\u001b[43m,\u001b[49m\n\u001b[1;32m    150\u001b[0m \u001b[43m    \u001b[49m\u001b[43mstart_session\u001b[49m\u001b[38;5;241;43m=\u001b[39;49m\u001b[43mstart_session\u001b[49m\u001b[43m,\u001b[49m\n\u001b[1;32m    151\u001b[0m \u001b[43m    \u001b[49m\u001b[43msession_time\u001b[49m\u001b[38;5;241;43m=\u001b[39;49m\u001b[43msession_time\u001b[49m\u001b[43m,\u001b[49m\n\u001b[1;32m    152\u001b[0m \u001b[43m    \u001b[49m\u001b[38;5;241;43m*\u001b[39;49m\u001b[38;5;241;43m*\u001b[39;49m\u001b[43mhgp_dict\u001b[49m\n\u001b[1;32m    153\u001b[0m \u001b[43m\u001b[49m\u001b[43m)\u001b[49m\n",
      "File \u001b[0;32m/Library/Frameworks/Python.framework/Versions/3.11/lib/python3.11/site-packages/qiskit_ibm_provider/api/rest/runtime.py:134\u001b[0m, in \u001b[0;36mRuntime.program_run\u001b[0;34m(self, program_id, backend_name, params, image, hub, group, project, log_level, session_id, job_tags, max_execution_time, session_time, start_session)\u001b[0m\n\u001b[1;32m    133\u001b[0m data \u001b[38;5;241m=\u001b[39m json\u001b[38;5;241m.\u001b[39mdumps(payload, \u001b[38;5;28mcls\u001b[39m\u001b[38;5;241m=\u001b[39mRuntimeEncoder)\n\u001b[0;32m--> 134\u001b[0m \u001b[38;5;28;01mreturn\u001b[39;00m \u001b[38;5;28;43mself\u001b[39;49m\u001b[38;5;241;43m.\u001b[39;49m\u001b[43msession\u001b[49m\u001b[38;5;241;43m.\u001b[39;49m\u001b[43mpost\u001b[49m\u001b[43m(\u001b[49m\u001b[43murl\u001b[49m\u001b[43m,\u001b[49m\u001b[43m \u001b[49m\u001b[43mdata\u001b[49m\u001b[38;5;241;43m=\u001b[39;49m\u001b[43mdata\u001b[49m\u001b[43m,\u001b[49m\u001b[43m \u001b[49m\u001b[43mtimeout\u001b[49m\u001b[38;5;241;43m=\u001b[39;49m\u001b[38;5;241;43m900\u001b[39;49m\u001b[43m)\u001b[49m\u001b[38;5;241m.\u001b[39mjson()\n",
      "File \u001b[0;32m/Library/Frameworks/Python.framework/Versions/3.11/lib/python3.11/site-packages/requests/sessions.py:637\u001b[0m, in \u001b[0;36mSession.post\u001b[0;34m(self, url, data, json, **kwargs)\u001b[0m\n\u001b[1;32m    627\u001b[0m \u001b[38;5;250m\u001b[39m\u001b[38;5;124mr\u001b[39m\u001b[38;5;124;03m\"\"\"Sends a POST request. Returns :class:`Response` object.\u001b[39;00m\n\u001b[1;32m    628\u001b[0m \n\u001b[1;32m    629\u001b[0m \u001b[38;5;124;03m:param url: URL for the new :class:`Request` object.\u001b[39;00m\n\u001b[0;32m   (...)\u001b[0m\n\u001b[1;32m    634\u001b[0m \u001b[38;5;124;03m:rtype: requests.Response\u001b[39;00m\n\u001b[1;32m    635\u001b[0m \u001b[38;5;124;03m\"\"\"\u001b[39;00m\n\u001b[0;32m--> 637\u001b[0m \u001b[38;5;28;01mreturn\u001b[39;00m \u001b[38;5;28;43mself\u001b[39;49m\u001b[38;5;241;43m.\u001b[39;49m\u001b[43mrequest\u001b[49m\u001b[43m(\u001b[49m\u001b[38;5;124;43m\"\u001b[39;49m\u001b[38;5;124;43mPOST\u001b[39;49m\u001b[38;5;124;43m\"\u001b[39;49m\u001b[43m,\u001b[49m\u001b[43m \u001b[49m\u001b[43murl\u001b[49m\u001b[43m,\u001b[49m\u001b[43m \u001b[49m\u001b[43mdata\u001b[49m\u001b[38;5;241;43m=\u001b[39;49m\u001b[43mdata\u001b[49m\u001b[43m,\u001b[49m\u001b[43m \u001b[49m\u001b[43mjson\u001b[49m\u001b[38;5;241;43m=\u001b[39;49m\u001b[43mjson\u001b[49m\u001b[43m,\u001b[49m\u001b[43m \u001b[49m\u001b[38;5;241;43m*\u001b[39;49m\u001b[38;5;241;43m*\u001b[39;49m\u001b[43mkwargs\u001b[49m\u001b[43m)\u001b[49m\n",
      "File \u001b[0;32m/Library/Frameworks/Python.framework/Versions/3.11/lib/python3.11/site-packages/qiskit_ibm_provider/api/session.py:285\u001b[0m, in \u001b[0;36mRetrySession.request\u001b[0;34m(self, method, url, bare, **kwargs)\u001b[0m\n\u001b[1;32m    283\u001b[0m             message \u001b[38;5;241m+\u001b[39m\u001b[38;5;241m=\u001b[39m \u001b[38;5;124mf\u001b[39m\u001b[38;5;124m\"\u001b[39m\u001b[38;5;124m. \u001b[39m\u001b[38;5;132;01m{\u001b[39;00mex\u001b[38;5;241m.\u001b[39mresponse\u001b[38;5;241m.\u001b[39mtext\u001b[38;5;132;01m}\u001b[39;00m\u001b[38;5;124m\"\u001b[39m\n\u001b[0;32m--> 285\u001b[0m     \u001b[38;5;28;01mraise\u001b[39;00m RequestsApiError(message, status_code) \u001b[38;5;28;01mfrom\u001b[39;00m \u001b[38;5;21;01mex\u001b[39;00m\n\u001b[1;32m    287\u001b[0m \u001b[38;5;28;01mreturn\u001b[39;00m response\n",
      "\u001b[0;31mRequestsApiError\u001b[0m: '409 Client Error: Conflict for url: https://api.quantum.ibm.com/runtime/jobs. {\"errors\":[{\"message\":\"You have reached the limit of 3 pending  jobs. Please wait for a job to complete or cancel one before submitting anything new.\",\"code\":3458,\"solution\":\"Wait until some previous jobs were finished. You can cancel pending jobs to run new jobs.\",\"more_info\":\"https://docs.quantum-computing.ibm.com/errors\"}]}'",
      "\nThe above exception was the direct cause of the following exception:\n",
      "\u001b[0;31mIBMBackendApiError\u001b[0m                        Traceback (most recent call last)",
      "Cell \u001b[0;32mIn[5], line 1\u001b[0m\n\u001b[0;32m----> 1\u001b[0m batch_exp, batch_result \u001b[38;5;241m=\u001b[39m \u001b[43mT1_T2Hahn_batch\u001b[49m\u001b[43m(\u001b[49m\u001b[43mmin_delay\u001b[49m\u001b[38;5;241;43m=\u001b[39;49m\u001b[43mmin_delay\u001b[49m\u001b[43m,\u001b[49m\n\u001b[1;32m      2\u001b[0m \u001b[43m                                          \u001b[49m\u001b[43mmax_delay\u001b[49m\u001b[38;5;241;43m=\u001b[39;49m\u001b[43mmax_delay\u001b[49m\u001b[43m,\u001b[49m\n\u001b[1;32m      3\u001b[0m \u001b[43m                                          \u001b[49m\u001b[43mphysical_qubits\u001b[49m\u001b[38;5;241;43m=\u001b[39;49m\u001b[43mphysical_qubits\u001b[49m\u001b[43m,\u001b[49m\n\u001b[1;32m      4\u001b[0m \u001b[43m                                          \u001b[49m\u001b[43mnum_echos\u001b[49m\u001b[38;5;241;43m=\u001b[39;49m\u001b[43mnum_echos\u001b[49m\u001b[43m,\u001b[49m\n\u001b[1;32m      5\u001b[0m \u001b[43m                                          \u001b[49m\u001b[43mnum_batches\u001b[49m\u001b[38;5;241;43m=\u001b[39;49m\u001b[43mnum_batches\u001b[49m\u001b[43m,\u001b[49m\n\u001b[1;32m      6\u001b[0m \u001b[43m                                          \u001b[49m\u001b[43mbackend\u001b[49m\u001b[38;5;241;43m=\u001b[39;49m\u001b[43mbackend\u001b[49m\u001b[43m,\u001b[49m\n\u001b[1;32m      7\u001b[0m \u001b[43m                                          \u001b[49m\u001b[43mshots\u001b[49m\u001b[43m \u001b[49m\u001b[38;5;241;43m=\u001b[39;49m\u001b[43m \u001b[49m\u001b[43mshots\u001b[49m\u001b[43m,\u001b[49m\n\u001b[1;32m      8\u001b[0m \u001b[43m                                          \u001b[49m\u001b[43mnum_samples\u001b[49m\u001b[38;5;241;43m=\u001b[39;49m\u001b[43mnum_samples\u001b[49m\u001b[43m)\u001b[49m\n",
      "Cell \u001b[0;32mIn[3], line 33\u001b[0m, in \u001b[0;36mT1_T2Hahn_batch\u001b[0;34m(min_delay, max_delay, num_samples, num_echos, shots, backend, physical_qubits, num_batches)\u001b[0m\n\u001b[1;32m     31\u001b[0m batch_exp \u001b[38;5;241m=\u001b[39m BatchExperiment(batch, backend\u001b[38;5;241m=\u001b[39m backend, flatten_results\u001b[38;5;241m=\u001b[39m \u001b[38;5;28;01mFalse\u001b[39;00m)\n\u001b[1;32m     32\u001b[0m batch_exp\u001b[38;5;241m.\u001b[39mset_run_options(shots\u001b[38;5;241m=\u001b[39mshots)\n\u001b[0;32m---> 33\u001b[0m batch_result \u001b[38;5;241m=\u001b[39m \u001b[43mbatch_exp\u001b[49m\u001b[38;5;241;43m.\u001b[39;49m\u001b[43mrun\u001b[49m\u001b[43m(\u001b[49m\u001b[43mbackend\u001b[49m\u001b[38;5;241;43m=\u001b[39;49m\u001b[43mbackend\u001b[49m\u001b[43m)\u001b[49m\u001b[38;5;241m.\u001b[39mblock_for_results()\n\u001b[1;32m     34\u001b[0m \u001b[38;5;28;01mreturn\u001b[39;00m batch_exp, batch_result\n",
      "File \u001b[0;32m/Library/Frameworks/Python.framework/Versions/3.11/lib/python3.11/site-packages/qiskit_experiments/framework/base_experiment.py:247\u001b[0m, in \u001b[0;36mBaseExperiment.run\u001b[0;34m(self, backend, analysis, timeout, **run_options)\u001b[0m\n\u001b[1;32m    244\u001b[0m run_opts \u001b[38;5;241m=\u001b[39m experiment\u001b[38;5;241m.\u001b[39mrun_options\u001b[38;5;241m.\u001b[39m\u001b[38;5;18m__dict__\u001b[39m\n\u001b[1;32m    246\u001b[0m \u001b[38;5;66;03m# Run jobs\u001b[39;00m\n\u001b[0;32m--> 247\u001b[0m jobs \u001b[38;5;241m=\u001b[39m \u001b[43mexperiment\u001b[49m\u001b[38;5;241;43m.\u001b[39;49m\u001b[43m_run_jobs\u001b[49m\u001b[43m(\u001b[49m\u001b[43mtranspiled_circuits\u001b[49m\u001b[43m,\u001b[49m\u001b[43m \u001b[49m\u001b[38;5;241;43m*\u001b[39;49m\u001b[38;5;241;43m*\u001b[39;49m\u001b[43mrun_opts\u001b[49m\u001b[43m)\u001b[49m\n\u001b[1;32m    248\u001b[0m experiment_data\u001b[38;5;241m.\u001b[39madd_jobs(jobs, timeout\u001b[38;5;241m=\u001b[39mtimeout)\n\u001b[1;32m    250\u001b[0m \u001b[38;5;66;03m# Optionally run analysis\u001b[39;00m\n",
      "File \u001b[0;32m/Library/Frameworks/Python.framework/Versions/3.11/lib/python3.11/site-packages/qiskit_experiments/framework/composite/batch_experiment.py:171\u001b[0m, in \u001b[0;36mBatchExperiment._run_jobs\u001b[0;34m(self, circuits, **run_options)\u001b[0m\n\u001b[1;32m    169\u001b[0m \u001b[38;5;28;01mdef\u001b[39;00m \u001b[38;5;21m_run_jobs\u001b[39m(\u001b[38;5;28mself\u001b[39m, circuits: List[QuantumCircuit], \u001b[38;5;241m*\u001b[39m\u001b[38;5;241m*\u001b[39mrun_options) \u001b[38;5;241m-\u001b[39m\u001b[38;5;241m>\u001b[39m List[Job]:\n\u001b[1;32m    170\u001b[0m     truncated_metadata \u001b[38;5;241m=\u001b[39m [circ\u001b[38;5;241m.\u001b[39mmetadata \u001b[38;5;28;01mfor\u001b[39;00m circ \u001b[38;5;129;01min\u001b[39;00m circuits]\n\u001b[0;32m--> 171\u001b[0m     jobs \u001b[38;5;241m=\u001b[39m \u001b[38;5;28;43mself\u001b[39;49m\u001b[38;5;241;43m.\u001b[39;49m\u001b[43m_run_jobs_recursive\u001b[49m\u001b[43m(\u001b[49m\u001b[43mcircuits\u001b[49m\u001b[43m,\u001b[49m\u001b[43m \u001b[49m\u001b[43mtruncated_metadata\u001b[49m\u001b[43m,\u001b[49m\u001b[43m \u001b[49m\u001b[38;5;241;43m*\u001b[39;49m\u001b[38;5;241;43m*\u001b[39;49m\u001b[43mrun_options\u001b[49m\u001b[43m)\u001b[49m\n\u001b[1;32m    172\u001b[0m     \u001b[38;5;28;01mreturn\u001b[39;00m jobs\n",
      "File \u001b[0;32m/Library/Frameworks/Python.framework/Versions/3.11/lib/python3.11/site-packages/qiskit_experiments/framework/composite/batch_experiment.py:165\u001b[0m, in \u001b[0;36mBatchExperiment._run_jobs_recursive\u001b[0;34m(self, circuits, truncated_metadata, **run_options)\u001b[0m\n\u001b[1;32m    163\u001b[0m         jobs\u001b[38;5;241m.\u001b[39mextend(new_jobs)\n\u001b[1;32m    164\u001b[0m \u001b[38;5;28;01melse\u001b[39;00m:\n\u001b[0;32m--> 165\u001b[0m     jobs \u001b[38;5;241m=\u001b[39m \u001b[38;5;28;43msuper\u001b[39;49m\u001b[43m(\u001b[49m\u001b[43m)\u001b[49m\u001b[38;5;241;43m.\u001b[39;49m\u001b[43m_run_jobs\u001b[49m\u001b[43m(\u001b[49m\u001b[43mcircuits\u001b[49m\u001b[43m,\u001b[49m\u001b[43m \u001b[49m\u001b[38;5;241;43m*\u001b[39;49m\u001b[38;5;241;43m*\u001b[39;49m\u001b[43mrun_options\u001b[49m\u001b[43m)\u001b[49m\n\u001b[1;32m    167\u001b[0m \u001b[38;5;28;01mreturn\u001b[39;00m jobs\n",
      "File \u001b[0;32m/Library/Frameworks/Python.framework/Versions/3.11/lib/python3.11/site-packages/qiskit_experiments/framework/base_experiment.py:292\u001b[0m, in \u001b[0;36mBaseExperiment._run_jobs\u001b[0;34m(self, circuits, **run_options)\u001b[0m\n\u001b[1;32m    289\u001b[0m     job_circuits \u001b[38;5;241m=\u001b[39m [circuits]\n\u001b[1;32m    291\u001b[0m \u001b[38;5;66;03m# Run jobs\u001b[39;00m\n\u001b[0;32m--> 292\u001b[0m jobs \u001b[38;5;241m=\u001b[39m \u001b[43m[\u001b[49m\u001b[38;5;28;43mself\u001b[39;49m\u001b[38;5;241;43m.\u001b[39;49m\u001b[43mbackend\u001b[49m\u001b[38;5;241;43m.\u001b[39;49m\u001b[43mrun\u001b[49m\u001b[43m(\u001b[49m\u001b[43mcircs\u001b[49m\u001b[43m,\u001b[49m\u001b[43m \u001b[49m\u001b[38;5;241;43m*\u001b[39;49m\u001b[38;5;241;43m*\u001b[39;49m\u001b[43mrun_options\u001b[49m\u001b[43m)\u001b[49m\u001b[43m \u001b[49m\u001b[38;5;28;43;01mfor\u001b[39;49;00m\u001b[43m \u001b[49m\u001b[43mcircs\u001b[49m\u001b[43m \u001b[49m\u001b[38;5;129;43;01min\u001b[39;49;00m\u001b[43m \u001b[49m\u001b[43mjob_circuits\u001b[49m\u001b[43m]\u001b[49m\n\u001b[1;32m    294\u001b[0m \u001b[38;5;28;01mreturn\u001b[39;00m jobs\n",
      "File \u001b[0;32m/Library/Frameworks/Python.framework/Versions/3.11/lib/python3.11/site-packages/qiskit_experiments/framework/base_experiment.py:292\u001b[0m, in \u001b[0;36m<listcomp>\u001b[0;34m(.0)\u001b[0m\n\u001b[1;32m    289\u001b[0m     job_circuits \u001b[38;5;241m=\u001b[39m [circuits]\n\u001b[1;32m    291\u001b[0m \u001b[38;5;66;03m# Run jobs\u001b[39;00m\n\u001b[0;32m--> 292\u001b[0m jobs \u001b[38;5;241m=\u001b[39m [\u001b[38;5;28;43mself\u001b[39;49m\u001b[38;5;241;43m.\u001b[39;49m\u001b[43mbackend\u001b[49m\u001b[38;5;241;43m.\u001b[39;49m\u001b[43mrun\u001b[49m\u001b[43m(\u001b[49m\u001b[43mcircs\u001b[49m\u001b[43m,\u001b[49m\u001b[43m \u001b[49m\u001b[38;5;241;43m*\u001b[39;49m\u001b[38;5;241;43m*\u001b[39;49m\u001b[43mrun_options\u001b[49m\u001b[43m)\u001b[49m \u001b[38;5;28;01mfor\u001b[39;00m circs \u001b[38;5;129;01min\u001b[39;00m job_circuits]\n\u001b[1;32m    294\u001b[0m \u001b[38;5;28;01mreturn\u001b[39;00m jobs\n",
      "File \u001b[0;32m/Library/Frameworks/Python.framework/Versions/3.11/lib/python3.11/site-packages/qiskit_ibm_provider/ibm_backend.py:495\u001b[0m, in \u001b[0;36mIBMBackend.run\u001b[0;34m(self, circuits, dynamic, job_tags, init_circuit, init_num_resets, header, shots, memory, meas_level, meas_return, rep_delay, init_qubits, use_measure_esp, noise_model, seed_simulator, **run_config)\u001b[0m\n\u001b[1;32m    491\u001b[0m \u001b[38;5;28;01mif\u001b[39;00m \u001b[38;5;129;01mnot\u001b[39;00m program_id\u001b[38;5;241m.\u001b[39mstartswith(QASM3RUNNERPROGRAMID):\n\u001b[1;32m    492\u001b[0m     \u001b[38;5;66;03m# Transpiling in circuit-runner is deprecated.\u001b[39;00m\n\u001b[1;32m    493\u001b[0m     run_config_dict[\u001b[38;5;124m\"\u001b[39m\u001b[38;5;124mskip_transpilation\u001b[39m\u001b[38;5;124m\"\u001b[39m] \u001b[38;5;241m=\u001b[39m \u001b[38;5;28;01mTrue\u001b[39;00m\n\u001b[0;32m--> 495\u001b[0m \u001b[38;5;28;01mreturn\u001b[39;00m \u001b[38;5;28;43mself\u001b[39;49m\u001b[38;5;241;43m.\u001b[39;49m\u001b[43m_runtime_run\u001b[49m\u001b[43m(\u001b[49m\n\u001b[1;32m    496\u001b[0m \u001b[43m    \u001b[49m\u001b[43mprogram_id\u001b[49m\u001b[38;5;241;43m=\u001b[39;49m\u001b[43mprogram_id\u001b[49m\u001b[43m,\u001b[49m\n\u001b[1;32m    497\u001b[0m \u001b[43m    \u001b[49m\u001b[43minputs\u001b[49m\u001b[38;5;241;43m=\u001b[39;49m\u001b[43mrun_config_dict\u001b[49m\u001b[43m,\u001b[49m\n\u001b[1;32m    498\u001b[0m \u001b[43m    \u001b[49m\u001b[43mbackend_name\u001b[49m\u001b[38;5;241;43m=\u001b[39;49m\u001b[38;5;28;43mself\u001b[39;49m\u001b[38;5;241;43m.\u001b[39;49m\u001b[43mname\u001b[49m\u001b[43m,\u001b[49m\n\u001b[1;32m    499\u001b[0m \u001b[43m    \u001b[49m\u001b[43mjob_tags\u001b[49m\u001b[38;5;241;43m=\u001b[39;49m\u001b[43mjob_tags\u001b[49m\u001b[43m,\u001b[49m\n\u001b[1;32m    500\u001b[0m \u001b[43m    \u001b[49m\u001b[43mimage\u001b[49m\u001b[38;5;241;43m=\u001b[39;49m\u001b[43mimage\u001b[49m\u001b[43m,\u001b[49m\n\u001b[1;32m    501\u001b[0m \u001b[43m\u001b[49m\u001b[43m)\u001b[49m\n",
      "File \u001b[0;32m/Library/Frameworks/Python.framework/Versions/3.11/lib/python3.11/site-packages/qiskit_ibm_provider/ibm_backend.py:540\u001b[0m, in \u001b[0;36mIBMBackend._runtime_run\u001b[0;34m(self, program_id, inputs, backend_name, job_tags, image)\u001b[0m\n\u001b[1;32m    528\u001b[0m     response \u001b[38;5;241m=\u001b[39m \u001b[38;5;28mself\u001b[39m\u001b[38;5;241m.\u001b[39mprovider\u001b[38;5;241m.\u001b[39m_runtime_client\u001b[38;5;241m.\u001b[39mprogram_run(\n\u001b[1;32m    529\u001b[0m         program_id\u001b[38;5;241m=\u001b[39mprogram_id,\n\u001b[1;32m    530\u001b[0m         backend_name\u001b[38;5;241m=\u001b[39mbackend_name,\n\u001b[0;32m   (...)\u001b[0m\n\u001b[1;32m    537\u001b[0m         image\u001b[38;5;241m=\u001b[39mimage,\n\u001b[1;32m    538\u001b[0m     )\n\u001b[1;32m    539\u001b[0m \u001b[38;5;28;01mexcept\u001b[39;00m RequestsApiError \u001b[38;5;28;01mas\u001b[39;00m ex:\n\u001b[0;32m--> 540\u001b[0m     \u001b[38;5;28;01mraise\u001b[39;00m IBMBackendApiError(\u001b[38;5;124m\"\u001b[39m\u001b[38;5;124mError submitting job: \u001b[39m\u001b[38;5;132;01m{}\u001b[39;00m\u001b[38;5;124m\"\u001b[39m\u001b[38;5;241m.\u001b[39mformat(\u001b[38;5;28mstr\u001b[39m(ex))) \u001b[38;5;28;01mfrom\u001b[39;00m \u001b[38;5;21;01mex\u001b[39;00m\n\u001b[1;32m    541\u001b[0m session_id \u001b[38;5;241m=\u001b[39m response\u001b[38;5;241m.\u001b[39mget(\u001b[38;5;124m\"\u001b[39m\u001b[38;5;124msession_id\u001b[39m\u001b[38;5;124m\"\u001b[39m)\n\u001b[1;32m    542\u001b[0m \u001b[38;5;28;01mif\u001b[39;00m \u001b[38;5;28mself\u001b[39m\u001b[38;5;241m.\u001b[39m_session:\n",
      "\u001b[0;31mIBMBackendApiError\u001b[0m: 'Error submitting job: \\'409 Client Error: Conflict for url: https://api.quantum.ibm.com/runtime/jobs. {\"errors\":[{\"message\":\"You have reached the limit of 3 pending  jobs. Please wait for a job to complete or cancel one before submitting anything new.\",\"code\":3458,\"solution\":\"Wait until some previous jobs were finished. You can cancel pending jobs to run new jobs.\",\"more_info\":\"https://docs.quantum-computing.ibm.com/errors\"}]}\\''"
     ]
    }
   ],
   "source": [
    "batch_exp, batch_result = T1_T2Hahn_batch(min_delay=min_delay,\n",
    "                                          max_delay=max_delay,\n",
    "                                          physical_qubits=physical_qubits,\n",
    "                                          num_echos=num_echos,\n",
    "                                          num_batches=num_batches,\n",
    "                                          backend=backend,\n",
    "                                          shots = shots,\n",
    "                                          num_samples=num_samples)"
   ]
  }
 ],
 "metadata": {
  "kernelspec": {
   "display_name": "Python 3",
   "language": "python",
   "name": "python3"
  },
  "language_info": {
   "codemirror_mode": {
    "name": "ipython",
    "version": 3
   },
   "file_extension": ".py",
   "mimetype": "text/x-python",
   "name": "python",
   "nbconvert_exporter": "python",
   "pygments_lexer": "ipython3",
   "version": "3.11.1"
  }
 },
 "nbformat": 4,
 "nbformat_minor": 2
}
